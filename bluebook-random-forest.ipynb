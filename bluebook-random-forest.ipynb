{
 "cells": [
  {
   "cell_type": "code",
   "execution_count": 1,
   "metadata": {},
   "outputs": [],
   "source": [
    "from droidai.imports import *\n",
    "from droidai.structured import *\n",
    "\n",
    "from pandas_summary import DataFrameSummary\n",
    "from sklearn.ensemble import RandomForestRegressor, RandomForestClassifier\n",
    "from IPython.display import display\n",
    "\n",
    "from sklearn import metrics"
   ]
  },
  {
   "cell_type": "code",
   "execution_count": 2,
   "metadata": {},
   "outputs": [
    {
     "name": "stdout",
     "output_type": "stream",
     "text": [
      "'Data Dictionary.xlsx'\t TrainAndValid.7z    Valid.zip\r\n",
      " Machine_Appendix.csv\t TrainAndValid.csv   ValidSolution.csv\r\n",
      " Test.csv\t\t TrainAndValid.zip   median_benchmark.csv\r\n",
      " Train.7z\t\t Valid.7z\t     random_forest_benchmark_test.csv\r\n",
      " Train.zip\t\t Valid.csv\r\n"
     ]
    }
   ],
   "source": [
    "PATH = \"data/bluebook-for-bulldozers/\"\n",
    "!ls {PATH}"
   ]
  },
  {
   "cell_type": "code",
   "execution_count": null,
   "metadata": {},
   "outputs": [],
   "source": []
  }
 ],
 "metadata": {
  "kernelspec": {
   "display_name": "Python [conda env:droidai] *",
   "language": "python",
   "name": "conda-env-droidai-py"
  },
  "language_info": {
   "codemirror_mode": {
    "name": "ipython",
    "version": 3
   },
   "file_extension": ".py",
   "mimetype": "text/x-python",
   "name": "python",
   "nbconvert_exporter": "python",
   "pygments_lexer": "ipython3",
   "version": "3.6.10"
  }
 },
 "nbformat": 4,
 "nbformat_minor": 4
}
